{
 "cells": [
  {
   "cell_type": "markdown",
   "metadata": {},
   "source": [
    "### concepts\n",
    "* time / freq: scale-free\n",
    "* digital frequency: like normalized freq\n",
    "* power: average energy over a period\n",
    "* finite signals: embedded into infinite signals (periodic or aperiodic)\n",
    "* Hilbert space \n",
    "\t* complete inner product space\n",
    "\t* finite signals\n",
    "\t* periodic signals\n",
    "\t* aperiodic infinite signals: ~ finite energy signals l_2(Z)\n",
    "\t\t* Note: space of finite support signals not Hilbert (not complete)"
   ]
  },
  {
   "cell_type": "markdown",
   "metadata": {},
   "source": [
    "### LTI\n",
    "* Linearity: e.g. multitrack recording\n",
    "* Time-invariance: system’s behavior is independent of the time it’s turned on\n",
    "* —> completely characterized by its IR h[n]\n",
    "* causal (system): h[n] = 0 for n < 0\n",
    "* stable (filter): bounded l_1(h[n])\n",
    "* FIR\n",
    "\t* \n",
    "* IIR\n",
    "\t* difference equation (AR?): y[n] = lambda * y[n-1] + (1 - lambda) * x[n]\n",
    "\t* —> LTI if zero initial\n",
    "\t* limited memory (v.s moving average)\n",
    "\t* can be causal or anti-causal depending on re-arrangement —> ROC analysis\n",
    "\t* leaky integrator\n",
    "\t* how to obtain IR (time / freq) in general case? —> z-transform\n",
    "* complex exponentials are eigenfunctions of LTI systems\n",
    "* realizable filters: FIR, leaky integrator etc."
   ]
  },
  {
   "cell_type": "markdown",
   "metadata": {
    "toc-hr-collapsed": true
   },
   "source": [
    "### Fourier\n",
    "* DFT\n",
    "* DFS\n",
    "* DTFT"
   ]
  },
  {
   "cell_type": "markdown",
   "metadata": {},
   "source": [
    "### z transform\n",
    "* linearity\n",
    "* time-shift\n",
    "* invertible up to a causality specification —> different RoC\n",
    "* solving CCDE:\n",
    "\t* Y(z) = H(z) X(z)\n",
    "\t* H(z): transfer function (rational function) is z-transform of IR\n",
    "\t* H(z) evaluated on unit circle is the freq response\n",
    "\t* RoC defines causality / anti-causality\n",
    "* ROC\n",
    "\t* region of absolute convergence\n",
    "\t* circular symmetric\n",
    "\t* ROC for finite support sequences is the entire C plane\n",
    "\t* ROC for causal sequences: outside of disk\n",
    "\t* ROC for anti-causal sequences: inside disk\n",
    "\t* a system is stable if ROC of transfer function includes unit circle \n",
    "\t\t* —> for causal: all poles must be inside unit circle\n",
    "\t\t* —> for anti-causal: all poles must be outside unit circle\n",
    "* Pole-zero plot:"
   ]
  },
  {
   "cell_type": "code",
   "execution_count": null,
   "metadata": {},
   "outputs": [],
   "source": []
  }
 ],
 "metadata": {
  "kernelspec": {
   "display_name": "Python 3",
   "language": "python",
   "name": "python3"
  },
  "language_info": {
   "codemirror_mode": {
    "name": "ipython",
    "version": 3
   },
   "file_extension": ".py",
   "mimetype": "text/x-python",
   "name": "python",
   "nbconvert_exporter": "python",
   "pygments_lexer": "ipython3",
   "version": "3.7.3"
  }
 },
 "nbformat": 4,
 "nbformat_minor": 2
}
